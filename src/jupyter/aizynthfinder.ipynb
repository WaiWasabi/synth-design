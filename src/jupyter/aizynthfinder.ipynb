{
 "cells": [
  {
   "cell_type": "code",
   "execution_count": 3,
   "metadata": {
    "collapsed": true
   },
   "outputs": [],
   "source": [
    "from aizynthfinder.aizynthfinder import AiZynthFinder"
   ]
  },
  {
   "cell_type": "code",
   "execution_count": 4,
   "outputs": [
    {
     "data": {
      "text/plain": "29.729164600372314"
     },
     "execution_count": 4,
     "metadata": {},
     "output_type": "execute_result"
    }
   ],
   "source": [
    "finder = AiZynthFinder(configfile='../../Data/AiZynthFinder/zynth-config.yml')\n",
    "finder.stock.select(\"zinc\")\n",
    "finder.expansion_policy.select(\"uspto\")\n",
    "finder.filter_policy.select(\"uspto\")\n",
    "finder.target_smiles = \"CC(C)NCC(COC1=CC=CC2=CC=CC=C21)O\"\n",
    "finder.tree_search()"
   ],
   "metadata": {
    "collapsed": false,
    "pycharm": {
     "name": "#%%\n"
    }
   }
  },
  {
   "cell_type": "code",
   "execution_count": 5,
   "outputs": [
    {
     "data": {
      "text/plain": "{'target': 'CC(C)NCC(O)COc1cccc2ccccc12',\n 'search_time': 29.729164600372314,\n 'first_solution_time': 3.6359100341796875,\n 'first_solution_iteration': 1,\n 'number_of_nodes': 203,\n 'max_transforms': 7,\n 'max_children': 20,\n 'number_of_routes': 65,\n 'number_of_solved_routes': 42,\n 'top_score': 0.9976287063411217,\n 'is_solved': True,\n 'number_of_steps': 1,\n 'number_of_precursors': 2,\n 'number_of_precursors_in_stock': 2,\n 'precursors_in_stock': 'CC(C)N1CC(O)C1, Oc1cccc2ccccc12',\n 'precursors_not_in_stock': '',\n 'precursors_availability': 'zinc;zinc',\n 'policy_used_counts': {'uspto': 202}}"
     },
     "execution_count": 5,
     "metadata": {},
     "output_type": "execute_result"
    }
   ],
   "source": [
    "finder.build_routes()\n",
    "stats = finder.extract_statistics()\n",
    "stats"
   ],
   "metadata": {
    "collapsed": false,
    "pycharm": {
     "name": "#%%\n"
    }
   }
  },
  {
   "cell_type": "code",
   "execution_count": 6,
   "outputs": [
    {
     "data": {
      "text/plain": "{'type': 'mol',\n 'hide': False,\n 'smiles': 'CC(C)NCC(O)COc1cccc2ccccc12',\n 'is_chemical': True,\n 'in_stock': False,\n 'children': [{'type': 'reaction',\n   'hide': False,\n   'smiles': '[CH3:1][N:2][CH2:3][CH2:4][C:5][O:6][cH3:7]>>[CH3:1][N:2]1[CH2:3][CH2:4][C:5]1.[O:6][cH3:7]',\n   'is_reaction': True,\n   'metadata': {'template_hash': '4297fc4fe3518c895ea77555da79914d187e6d60d8658e223a874b9d',\n    'classification': 'Unassigned',\n    'library_occurence': 16,\n    'policy_probability': 0.7646999955177307,\n    'policy_probability_rank': 0,\n    'policy_name': 'uspto',\n    'template_code': 12175},\n   'children': [{'type': 'mol',\n     'hide': False,\n     'smiles': 'CC(C)N1CC(O)C1',\n     'is_chemical': True,\n     'in_stock': True},\n    {'type': 'mol',\n     'hide': False,\n     'smiles': 'Oc1cccc2ccccc12',\n     'is_chemical': True,\n     'in_stock': True}]}]}"
     },
     "execution_count": 6,
     "metadata": {},
     "output_type": "execute_result"
    }
   ],
   "source": [
    "tree = finder.routes[0]['reaction_tree']\n",
    "tree.to_dict()"
   ],
   "metadata": {
    "collapsed": false,
    "pycharm": {
     "name": "#%%\n"
    }
   }
  },
  {
   "cell_type": "code",
   "execution_count": 1,
   "outputs": [
    {
     "data": {
      "text/plain": "<rdkit.Chem.rdChemReactions.ChemicalReaction at 0x2086a6b64c0>",
      "image/png": "[encoded data removed]"
     },
     "execution_count": 1,
     "metadata": {},
     "output_type": "execute_result"
    }
   ],
   "source": [
    "from rdkit.Chem import MolFromSmiles, rdChemReactions\n",
    "\n",
    "rdChemReactions.ReactionFromSmarts('[CH3:1][N:2][CH2:3][CH2:4][C:5][O:6][cH3:7]>>[CH3:1][N:2]1[CH2:3][CH2:4][C:5]1.[O:6][cH3:7]', useSmiles=True)"
   ],
   "metadata": {
    "collapsed": false,
    "pycharm": {
     "name": "#%%\n"
    }
   }
  },
  {
   "cell_type": "code",
   "execution_count": 23,
   "outputs": [
    {
     "data": {
      "text/plain": "<rdkit.Chem.rdchem.Mol at 0x13b02237e80>",
      "image/png": "[encoded data removed]"
     },
     "execution_count": 23,
     "metadata": {},
     "output_type": "execute_result"
    }
   ],
   "source": [
    "MolFromSmiles('Oc1cccc2ccccc12')"
   ],
   "metadata": {
    "collapsed": false,
    "pycharm": {
     "name": "#%%\n"
    }
   }
  },
  {
   "cell_type": "code",
   "execution_count": null,
   "outputs": [],
   "source": [],
   "metadata": {
    "collapsed": false,
    "pycharm": {
     "name": "#%%\n"
    }
   }
  }
 ],
 "metadata": {
  "kernelspec": {
   "display_name": "Python 3",
   "language": "python",
   "name": "python3"
  },
  "language_info": {
   "codemirror_mode": {
    "name": "ipython",
    "version": 2
   },
   "file_extension": ".py",
   "mimetype": "text/x-python",
   "name": "python",
   "nbconvert_exporter": "python",
   "pygments_lexer": "ipython2",
   "version": "2.7.6"
  }
 },
 "nbformat": 4,
 "nbformat_minor": 0
}