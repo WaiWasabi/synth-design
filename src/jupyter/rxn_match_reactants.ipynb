{
 "cells": [
  {
   "cell_type": "code",
   "execution_count": 1,
   "metadata": {
    "collapsed": true
   },
   "outputs": [],
   "source": [
    "from rdkit.Chem import rdChemReactions\n",
    "import rdkit.Chem as Chem\n",
    "import pandas as pd\n",
    "from tqdm import tqdm\n",
    "\n",
    "\n",
    "reactions = pd.read_csv('../../Data/Uspto/preprocessed/uspto-clean.csv')['reaction_smarts']\n",
    "molecules = pd.read_csv('../../Data/Zinc/processed/zinc7_morgan.csv')['SMILES']"
   ]
  },
  {
   "cell_type": "code",
   "execution_count": 4,
   "outputs": [
    {
     "name": "stderr",
     "output_type": "stream",
     "text": [
      "  0%|          | 0/1000 [11:29<?, ?it/s]\n"
     ]
    },
    {
     "ename": "KeyboardInterrupt",
     "evalue": "",
     "output_type": "error",
     "traceback": [
      "\u001B[1;31m---------------------------------------------------------------------------\u001B[0m",
      "\u001B[1;31mKeyboardInterrupt\u001B[0m                         Traceback (most recent call last)",
      "Input \u001B[1;32mIn [4]\u001B[0m, in \u001B[0;36m<module>\u001B[1;34m\u001B[0m\n\u001B[0;32m     11\u001B[0m \u001B[38;5;28;01mfor\u001B[39;00m smarts \u001B[38;5;129;01min\u001B[39;00m reactions:\n\u001B[0;32m     12\u001B[0m     rxn \u001B[38;5;241m=\u001B[39m rdChemReactions\u001B[38;5;241m.\u001B[39mReactionFromSmarts(smarts)\n\u001B[1;32m---> 13\u001B[0m     \u001B[43mrxn\u001B[49m\u001B[38;5;241m.\u001B[39mInitialize()\n\u001B[0;32m     14\u001B[0m     mask\u001B[38;5;241m.\u001B[39mappend(\u001B[38;5;28mint\u001B[39m(rxn\u001B[38;5;241m.\u001B[39mIsMoleculeReactant(Chem\u001B[38;5;241m.\u001B[39mMolFromSmiles(smiles))))\n\u001B[0;32m     15\u001B[0m writer\u001B[38;5;241m.\u001B[39mwriterow([smiles, mask])\n",
      "\u001B[1;31mKeyboardInterrupt\u001B[0m: "
     ]
    }
   ],
   "source": [
    "import csv\n",
    "from tqdm import tqdm\n",
    "from src.models.environment import arr_to_str\n",
    "import time\n",
    "\n",
    "with open('../../Data/Zinc/processed/test_zinc_uspto_mask.csv', 'w') as f:\n",
    "    writer = csv.writer(f)\n",
    "    writer.writerow(['SMILES', 'Mask'])\n",
    "    for smiles in tqdm(molecules):\n",
    "        mask = []\n",
    "        for smarts in reactions:\n",
    "            rxn = rdChemReactions.ReactionFromSmarts(smarts)\n",
    "            rxn.Initialize()\n",
    "            mask.append(int(rxn.IsMoleculeReactant(Chem.MolFromSmiles(smiles))))\n",
    "        writer.writerow([smiles, mask])\n",
    "\n",
    "masks = pd.read_csv('../../Data/Zinc/processed/test_zinc_uspto_mask.csv')['Mask'].sum(axis=1)\n",
    "print(masks)"
   ],
   "metadata": {
    "collapsed": false,
    "pycharm": {
     "name": "#%%\n"
    }
   }
  },
  {
   "cell_type": "code",
   "execution_count": 4,
   "outputs": [
    {
     "name": "stderr",
     "output_type": "stream",
     "text": [
      "100%|██████████| 16403849/16403849 [48:23<00:00, 5649.98it/s] \n"
     ]
    },
    {
     "name": "stdout",
     "output_type": "stream",
     "text": [
      "404082\n"
     ]
    }
   ],
   "source": [
    "rxn = rdChemReactions.ReactionFromSmarts('[NH2;D1;+0:1]-[c:2]>>O=[N+;H0;D3:1](-[O-])-[c:2]')\n",
    "\n",
    "rxn.Initialize()\n",
    "\n",
    "out= []\n",
    "for mol in tqdm(molecules):\n",
    "    out.append(rxn.IsMoleculeReactant(Chem.MolFromSmiles(mol)))\n",
    "\n",
    "print(sum(out))"
   ],
   "metadata": {
    "collapsed": false,
    "pycharm": {
     "name": "#%%\n"
    }
   }
  },
  {
   "cell_type": "code",
   "execution_count": 2,
   "outputs": [
    {
     "name": "stdout",
     "output_type": "stream",
     "text": [
      "(16403849, 2)\n"
     ]
    }
   ],
   "source": [
    "import pandas as pd\n",
    "\n",
    "x = pd.read_csv('../../Data/Zinc/processed/zinc7_morgan.csv')\n",
    "print(x.shape)"
   ],
   "metadata": {
    "collapsed": false,
    "pycharm": {
     "name": "#%%\n"
    }
   }
  },
  {
   "cell_type": "code",
   "execution_count": 3,
   "outputs": [],
   "source": [
    "x['SMILES'].to_csv('../../Data/Zinc/processed/__zinc7_morgan.csv')"
   ],
   "metadata": {
    "collapsed": false,
    "pycharm": {
     "name": "#%%\n"
    }
   }
  },
  {
   "cell_type": "code",
   "execution_count": null,
   "outputs": [],
   "source": [],
   "metadata": {
    "collapsed": false,
    "pycharm": {
     "name": "#%%\n"
    }
   }
  }
 ],
 "metadata": {
  "kernelspec": {
   "display_name": "Python 3",
   "language": "python",
   "name": "python3"
  },
  "language_info": {
   "codemirror_mode": {
    "name": "ipython",
    "version": 2
   },
   "file_extension": ".py",
   "mimetype": "text/x-python",
   "name": "python",
   "nbconvert_exporter": "python",
   "pygments_lexer": "ipython2",
   "version": "2.7.6"
  }
 },
 "nbformat": 4,
 "nbformat_minor": 0
}