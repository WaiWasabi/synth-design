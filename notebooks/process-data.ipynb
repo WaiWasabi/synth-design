{
 "cells": [
  {
   "cell_type": "code",
   "execution_count": 2,
   "outputs": [],
   "source": [
    "import pandas as pd\n",
    "import numpy as np\n",
    "from rdkit import Chem\n",
    "from tqdm import tqdm\n",
    "import matplotlib.pyplot as plt\n",
    "import torch\n",
    "import torch.nn.functional as F"
   ],
   "metadata": {
    "collapsed": false,
    "pycharm": {
     "name": "#%%\n"
    }
   }
  },
  {
   "cell_type": "code",
   "execution_count": 5,
   "outputs": [
    {
     "data": {
      "text/plain": "                                           SMILES\n0          CCCS(=O)c1ccc2[nH]c(=NC(=O)OC)[nH]c2c1\n1            CC(C)(C)C(=O)C(Oc1ccc(Cl)cc1)n1ccnc1\n2          CC1C2CCC(C2)C1CN(CCO)C(=O)c1ccc(Cl)cc1\n3             Cc1c(Cl)cccc1Nc1ncccc1C(=O)OCC(O)CO\n4                Cn1cnc2c1c(=O)n(CC(O)CO)c(=O)n2C\n...                                           ...\n1936957                      N#Cc1c(Br)cnc(N)c1Br\n1936958        COC(=O)c1cc(CNC(=O)OC(C)(C)C)ccc1C\n1936959                    NC(=O)c1ccc2ccccc2c1Br\n1936960  CC(=O)Nc1cccc(-c2nc3cc(C)ccc3[nH]c2=O)c1\n1936961   CC(NC(=O)OC(C)(C)C)c1nc(CO)nn1Cc1ccccc1\n\n[1936962 rows x 1 columns]",
      "text/html": "<div>\n<style scoped>\n    .dataframe tbody tr th:only-of-type {\n        vertical-align: middle;\n    }\n\n    .dataframe tbody tr th {\n        vertical-align: top;\n    }\n\n    .dataframe thead th {\n        text-align: right;\n    }\n</style>\n<table border=\"1\" class=\"dataframe\">\n  <thead>\n    <tr style=\"text-align: right;\">\n      <th></th>\n      <th>SMILES</th>\n    </tr>\n  </thead>\n  <tbody>\n    <tr>\n      <th>0</th>\n      <td>CCCS(=O)c1ccc2[nH]c(=NC(=O)OC)[nH]c2c1</td>\n    </tr>\n    <tr>\n      <th>1</th>\n      <td>CC(C)(C)C(=O)C(Oc1ccc(Cl)cc1)n1ccnc1</td>\n    </tr>\n    <tr>\n      <th>2</th>\n      <td>CC1C2CCC(C2)C1CN(CCO)C(=O)c1ccc(Cl)cc1</td>\n    </tr>\n    <tr>\n      <th>3</th>\n      <td>Cc1c(Cl)cccc1Nc1ncccc1C(=O)OCC(O)CO</td>\n    </tr>\n    <tr>\n      <th>4</th>\n      <td>Cn1cnc2c1c(=O)n(CC(O)CO)c(=O)n2C</td>\n    </tr>\n    <tr>\n      <th>...</th>\n      <td>...</td>\n    </tr>\n    <tr>\n      <th>1936957</th>\n      <td>N#Cc1c(Br)cnc(N)c1Br</td>\n    </tr>\n    <tr>\n      <th>1936958</th>\n      <td>COC(=O)c1cc(CNC(=O)OC(C)(C)C)ccc1C</td>\n    </tr>\n    <tr>\n      <th>1936959</th>\n      <td>NC(=O)c1ccc2ccccc2c1Br</td>\n    </tr>\n    <tr>\n      <th>1936960</th>\n      <td>CC(=O)Nc1cccc(-c2nc3cc(C)ccc3[nH]c2=O)c1</td>\n    </tr>\n    <tr>\n      <th>1936961</th>\n      <td>CC(NC(=O)OC(C)(C)C)c1nc(CO)nn1Cc1ccccc1</td>\n    </tr>\n  </tbody>\n</table>\n<p>1936962 rows × 1 columns</p>\n</div>"
     },
     "execution_count": 5,
     "metadata": {},
     "output_type": "execute_result"
    }
   ],
   "source": [
    "moses = pd.read_csv('../../Data/raw/moses_v1.zip', compression='zip').drop('SPLIT', axis=1)\n",
    "moses"
   ],
   "metadata": {
    "collapsed": false,
    "pycharm": {
     "name": "#%%\n"
    }
   }
  },
  {
   "cell_type": "code",
   "execution_count": 9,
   "outputs": [],
   "source": [
    "x = pd.read_csv('../../Data/Data Analysis/Moses/descriptors.zip', compression='zip')['exactmw']"
   ],
   "metadata": {
    "collapsed": false,
    "pycharm": {
     "name": "#%%\n"
    }
   }
  },
  {
   "cell_type": "code",
   "execution_count": 12,
   "outputs": [
    {
     "data": {
      "text/plain": "<Figure size 720x576 with 1 Axes>",
      "image/png": "[encoded data removed]"
     },
     "metadata": {
      "needs_background": "light"
     },
     "output_type": "display_data"
    }
   ],
   "source": [
    "plt.figure(figsize=(10, 8))\n",
    "plt.hist(x, bins=10)\n",
    "plt.show()"
   ],
   "metadata": {
    "collapsed": false,
    "pycharm": {
     "name": "#%%\n"
    }
   }
  },
  {
   "cell_type": "code",
   "execution_count": null,
   "outputs": [],
   "source": [
    "from collections import Counter\n",
    "\n",
    "def atomic_distribution(series):\n",
    "    atoms = []\n",
    "    for mol in tqdm((Chem.MolFromSmiles(mol) for mol in series), total=series.size):\n",
    "        for atom in mol.GetAtoms():\n",
    "            atoms.append(atom.GetAtomicNum())\n",
    "    return Counter(atoms)\n",
    "\n",
    "atomic_distribution(moses['SMILES'])"
   ],
   "metadata": {
    "collapsed": false,
    "pycharm": {
     "name": "#%%\n"
    }
   }
  }
 ],
 "metadata": {
  "kernelspec": {
   "name": "python3",
   "language": "python",
   "display_name": "Python 3 (ipykernel)"
  },
  "language_info": {
   "codemirror_mode": {
    "name": "ipython",
    "version": 2
   },
   "file_extension": ".py",
   "mimetype": "text/x-python",
   "name": "python",
   "nbconvert_exporter": "python",
   "pygments_lexer": "ipython2",
   "version": "2.7.6"
  }
 },
 "nbformat": 4,
 "nbformat_minor": 0
}